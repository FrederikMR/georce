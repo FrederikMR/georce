{
 "cells": [
  {
   "cell_type": "markdown",
   "id": "22df500f",
   "metadata": {},
   "source": [
    "# Geodesic Runtime"
   ]
  },
  {
   "cell_type": "code",
   "execution_count": 502,
   "id": "f92b226b",
   "metadata": {},
   "outputs": [],
   "source": [
    "import jax.numpy as jnp\n",
    "\n",
    "import os\n",
    "\n",
    "import pickle\n",
    "\n",
    "import matplotlib.pyplot as plt\n",
    "import matplotlib as mpl\n",
    "from mpl_toolkits.mplot3d import Axes3D\n",
    "from mpl_toolkits.axes_grid1 import make_axes_locatable\n",
    "import matplotlib.ticker as tkr\n",
    "\n",
    "from tabulate import tabulate"
   ]
  },
  {
   "cell_type": "code",
   "execution_count": 503,
   "id": "d6f5ef25",
   "metadata": {},
   "outputs": [],
   "source": [
    "plt.rcParams.update({'font.size': 25})\n",
    "cbformat = tkr.ScalarFormatter()   # create the formatter\n",
    "cbformat.set_powerlimits((-2,2)) "
   ]
  },
  {
   "cell_type": "code",
   "execution_count": 504,
   "id": "9ea62db1",
   "metadata": {},
   "outputs": [],
   "source": [
    "geometry = \"finsler\"\n",
    "T = 50\n",
    "path = f'timing/{geometry}/'\n",
    "manifold = \"T2\"\n",
    "figure_path = '../figures/geodesic_runtime/'"
   ]
  },
  {
   "cell_type": "code",
   "execution_count": 505,
   "id": "48e947c2",
   "metadata": {},
   "outputs": [],
   "source": [
    "if not (os.path.exists(figure_path)):\n",
    "    os.makedirs(figure_path)"
   ]
  },
  {
   "cell_type": "markdown",
   "id": "a070c316",
   "metadata": {},
   "source": [
    "## Loading Values"
   ]
  },
  {
   "cell_type": "code",
   "execution_count": 506,
   "id": "f02e6ee2",
   "metadata": {},
   "outputs": [],
   "source": [
    "save_path = ''.join((path, manifold, '/'))"
   ]
  },
  {
   "cell_type": "code",
   "execution_count": 507,
   "id": "cbf2fb1f",
   "metadata": {},
   "outputs": [],
   "source": [
    "onlyfiles = [f for f in os.listdir(save_path) if os.path.isfile(os.path.join(save_path, f))]\n",
    "onlyfiles = [f for f in onlyfiles if f'T={T}.pkl' in f]"
   ]
  },
  {
   "cell_type": "code",
   "execution_count": 508,
   "id": "44f71d1d",
   "metadata": {},
   "outputs": [],
   "source": [
    "estimates = {}\n",
    "for file in onlyfiles:\n",
    "    file_path = ''.join((save_path, file))\n",
    "    with open(file_path, 'rb') as f:\n",
    "        values = pickle.load(f)\n",
    "    dim = file.replace(manifold, '').replace('.pkl', '').replace('_d=', '').replace(f'_T={T}', '')\n",
    "    estimates[dim] = values"
   ]
  },
  {
   "cell_type": "markdown",
   "id": "befcfe10",
   "metadata": {},
   "source": [
    "## Table Comparison"
   ]
  },
  {
   "cell_type": "code",
   "execution_count": 509,
   "id": "6851686b",
   "metadata": {},
   "outputs": [],
   "source": [
    "dims = list(estimates.keys())\n",
    "\n",
    "mu_time = [estimates[key3][key2]['mu_time'] for key3,v3 in estimates.items() for key2,v2 in v3.items()]\n",
    "std_time = [estimates[key3][key2]['std_time'] for key3,v3 in estimates.items() for key2,v2 in v3.items()]\n",
    "length = [estimates[key3][key2]['length'] for key3,v3 in estimates.items()for key2,v2 in v3.items()]\n",
    "iter_num = [estimates[key3][key2]['iterations'] for key3,v3 in estimates.items() for key2,v2 in v3.items()]\n",
    "grad_norm = [estimates[key3][key2]['grad_norm'] for key3,v3 in estimates.items() for key2,v2 in v3.items()]\n",
    "error = []\n",
    "for key3, v3 in estimates.items():\n",
    "    for key2, v2 in v3.items():\n",
    "        val = estimates[key3][key2]\n",
    "        if \"error\" in val.keys():\n",
    "            error.append(val['error'])\n",
    "        else:\n",
    "            error.append(None)\n",
    "max_iter = [estimates[key3][key2]['max_iter'] for key3,v3 in estimates.items() for key2,v2 in v3.items()]\n",
    "tol = [estimates[key3][key2]['tol'] for key3,v3 in estimates.items() for key2,v2 in v3.items()]\n",
    "method = [key2 for key3,v3 in estimates.items() for key2,v2 in v3.items()]\n",
    "dims = [key3 for key3,v3 in estimates.items() for key2,v2 in v3.items()]\n",
    "\n",
    "N_methods = len(list(set(method)))\n",
    "#dims = sum([[d]*N_methods for d in dims], [])"
   ]
  },
  {
   "cell_type": "code",
   "execution_count": 510,
   "id": "6b974704",
   "metadata": {},
   "outputs": [
    {
     "name": "stdout",
     "output_type": "stream",
     "text": [
      "  Dim  Method          Length    Iterations    grad_norm    mean time    std time    max_iter     tol\n",
      "-----  ------------  --------  ------------  -----------  -----------  ----------  ----------  ------\n",
      "    2  ground_truth\n",
      "    2  GEORCE          9.0475     1000.0000       5.2857      12.4996      0.0074        1000  0.0001\n",
      "    2  init            8.7469                                                            1000  0.0001\n",
      "    2  ADAM            7.2683     1000.0000       1.0114       0.7200      0.0063        1000  0.0001\n",
      "    2  SGD           inf           186.0000     nan            0.1323      0.0008        1000  0.0001\n",
      "    2  BFGS            7.0816       98.0000       2.4899     492.6898     25.2512        1000  0.0001\n",
      "    2  CG              8.0535       31.0000     106.9218     200.5290      0.8208        1000  0.0001\n",
      "    2  dogleg          9.0475        0.0000       5.2857       4.2557      0.1093        1000  0.0001\n",
      "    2  trust-ncg       8.7777       49.0000      66.2457     342.4721      1.1208        1000  0.0001\n"
     ]
    }
   ],
   "source": [
    "names = [r\"Dim\", r\"Method\", #r\"Error\",\n",
    "        r\"Length\", r\"Iterations\", r\"grad_norm\", r\"mean time\",\n",
    "        r\"std time\", r\"max_iter\", r\"tol\"]\n",
    "\n",
    "table_dict = {}\n",
    "table_dict['Dim'] = dims\n",
    "table_dict['Method'] = method\n",
    "#table_dict['Error'] = error\n",
    "table_dict['Length'] = length\n",
    "table_dict['Iterations'] = iter_num\n",
    "table_dict['grad_norm'] = grad_norm\n",
    "table_dict['mu_time'] = mu_time\n",
    "table_dict['std_time'] = std_time\n",
    "table_dict['max_iter'] = max_iter\n",
    "table_dict['tol'] = tol\n",
    "\n",
    "print(tabulate(table_dict, headers=names, floatfmt=\".4f\"))\n"
   ]
  },
  {
   "cell_type": "markdown",
   "id": "7305bc39",
   "metadata": {},
   "source": [
    "### Printing Table Version of Table"
   ]
  },
  {
   "cell_type": "code",
   "execution_count": 511,
   "id": "23fdd9a8",
   "metadata": {},
   "outputs": [],
   "source": [
    "#methods = ['BFGS', 'ADAM', 'GEORCE']\n",
    "#methods = ['SGD', 'CG', 'dogleg']\n",
    "methods = ['trust-ncg', 'trust-exact']"
   ]
  },
  {
   "cell_type": "code",
   "execution_count": 512,
   "id": "1c5614ea",
   "metadata": {},
   "outputs": [],
   "source": [
    "dims = [int(key3) for key3, v3 in estimates.items()]\n",
    "dims.sort()\n",
    "dims = [str(d) for d in dims]"
   ]
  },
  {
   "cell_type": "code",
   "execution_count": 513,
   "id": "da6fc156",
   "metadata": {},
   "outputs": [],
   "source": [
    "def manifold_str(d):\n",
    "    \n",
    "    if manifold == \"Sphere\":\n",
    "        return \"\\mathbb{S}^{\"+f\"{d}\"+\"}\"\n",
    "    elif manifold == \"Ellipsoid\":\n",
    "        return \"\\mathrm{E}\\\\left( \"+f\"{d}\"+\" \\\\right)\"\n",
    "    elif manifold == \"SPDN\":\n",
    "        return \"\\mathcal{P}\\\\left( \"+f\"{d}\"+\" \\\\right)\"\n",
    "    elif manifold == \"T2\":\n",
    "        return \"\\mathbb{T}^{\"+f\"{d}\"+\"}\"\n",
    "    \n",
    "    "
   ]
  },
  {
   "cell_type": "code",
   "execution_count": 514,
   "id": "fefc9fca",
   "metadata": {},
   "outputs": [
    {
     "name": "stdout",
     "output_type": "stream",
     "text": [
      "$\\mathbb{T}^{2}$ & $\\pmb{8.7777}$ & $\\pmb{49}$ & $\\pmb{342.4721} \\pm \\pmb{ 1.1208 }$ & $-$ & $-$ & $-$ \\\\ \n"
     ]
    }
   ],
   "source": [
    "for d in dims:\n",
    "    print(f\"${manifold_str(d)}$\", end=\"\")\n",
    "    length = []\n",
    "    iters = []\n",
    "    mu_times = []\n",
    "    std_times = []\n",
    "    for m in methods:\n",
    "        if m in estimates[d].keys():\n",
    "            length.append(estimates[d][m]['length'])\n",
    "            iters.append(estimates[d][m]['iterations'])\n",
    "            mu_times.append(estimates[d][m]['mu_time'])\n",
    "            std_times.append(estimates[d][m]['std_time'])\n",
    "        else:\n",
    "            length.append(jnp.nan)\n",
    "            iters.append(jnp.nan)\n",
    "            mu_times.append(jnp.nan)\n",
    "            std_times.append(jnp.nan)\n",
    "    length = jnp.stack(length)\n",
    "    iters = jnp.stack(iters)\n",
    "    mu_times = jnp.stack(mu_times)\n",
    "    std_times = jnp.stack(std_times)\n",
    "    best_length = jnp.where(length == jnp.nanmin(length))[0]\n",
    "    best_iters = jnp.where(iters == jnp.nanmin(iters))[0]\n",
    "    best_times = jnp.where(mu_times == jnp.nanmin(mu_times))[0]\n",
    "    for i in range(len(length)):\n",
    "        if jnp.isnan(length[i]):\n",
    "            l = '-'\n",
    "            it = '-'\n",
    "            mu_time = '-'\n",
    "            std_time = '-'\n",
    "            print(f\" & ${l}$\", end=\"\")\n",
    "            print(f\" & ${it}$\", end=\"\")\n",
    "            print(f\" & $-$\", end=\"\")\n",
    "        else:\n",
    "            if i in best_length:\n",
    "                print(f\" & $\\\\pmb{{{length[i]:.4f}}}$\", end=\"\")\n",
    "            else:\n",
    "                print(f\" & ${length[i]:.4f}$\", end=\"\")\n",
    "            if i in best_iters:\n",
    "                print(f\" & $\\\\pmb{{{int(iters[i])}}}$\", end=\"\")\n",
    "            else:\n",
    "                print(f\" & ${int(iters[i])}$\", end=\"\")\n",
    "            if i in best_times:\n",
    "                print(f\" & $\\\\pmb{{{mu_times[i]:.4f}}} \\pm \\\\pmb{{ {std_times[i]:.4f} }}$\", end=\"\")\n",
    "            else:\n",
    "                print(f\" & ${mu_times[i]:.4f} \\pm {std_times[i]:.4f}$\", end=\"\")\n",
    "    print(\" \\\\\\ \")"
   ]
  },
  {
   "cell_type": "markdown",
   "id": "b82b0865",
   "metadata": {},
   "source": [
    "## Plotting Comparison"
   ]
  },
  {
   "cell_type": "code",
   "execution_count": 515,
   "id": "7f954d66",
   "metadata": {},
   "outputs": [],
   "source": [
    "methods = [list(estimates[k].keys()) for k,v in estimates.items()]"
   ]
  },
  {
   "cell_type": "code",
   "execution_count": 516,
   "id": "e1295e85",
   "metadata": {},
   "outputs": [
    {
     "ename": "IndexError",
     "evalue": "list index out of range",
     "output_type": "error",
     "traceback": [
      "\u001b[0;31m---------------------------------------------------------------------------\u001b[0m",
      "\u001b[0;31mIndexError\u001b[0m                                Traceback (most recent call last)",
      "\u001b[0;32m/tmp/ipykernel_46932/679664178.py\u001b[0m in \u001b[0;36m<module>\u001b[0;34m\u001b[0m\n\u001b[1;32m     17\u001b[0m             \u001b[0mstd_time\u001b[0m \u001b[0;34m=\u001b[0m \u001b[0;34m[\u001b[0m\u001b[0mx\u001b[0m \u001b[0;32mfor\u001b[0m \u001b[0m_\u001b[0m\u001b[0;34m,\u001b[0m \u001b[0mx\u001b[0m \u001b[0;32min\u001b[0m \u001b[0msorted\u001b[0m\u001b[0;34m(\u001b[0m\u001b[0mzip\u001b[0m\u001b[0;34m(\u001b[0m\u001b[0mdims\u001b[0m\u001b[0;34m,\u001b[0m \u001b[0mstd_time\u001b[0m\u001b[0;34m)\u001b[0m\u001b[0;34m)\u001b[0m\u001b[0;34m]\u001b[0m\u001b[0;34m\u001b[0m\u001b[0;34m\u001b[0m\u001b[0m\n\u001b[1;32m     18\u001b[0m             \u001b[0mmu_time\u001b[0m\u001b[0;34m,\u001b[0m \u001b[0mstd_time\u001b[0m\u001b[0;34m,\u001b[0m \u001b[0mdims\u001b[0m \u001b[0;34m=\u001b[0m \u001b[0mjnp\u001b[0m\u001b[0;34m.\u001b[0m\u001b[0mstack\u001b[0m\u001b[0;34m(\u001b[0m\u001b[0mmu_time\u001b[0m\u001b[0;34m)\u001b[0m\u001b[0;34m,\u001b[0m \u001b[0mjnp\u001b[0m\u001b[0;34m.\u001b[0m\u001b[0mstack\u001b[0m\u001b[0;34m(\u001b[0m\u001b[0mstd_time\u001b[0m\u001b[0;34m)\u001b[0m\u001b[0;34m,\u001b[0m \u001b[0mjnp\u001b[0m\u001b[0;34m.\u001b[0m\u001b[0mstack\u001b[0m\u001b[0;34m(\u001b[0m\u001b[0mdims\u001b[0m\u001b[0;34m)\u001b[0m\u001b[0;34m\u001b[0m\u001b[0;34m\u001b[0m\u001b[0m\n\u001b[0;32m---> 19\u001b[0;31m             \u001b[0max\u001b[0m\u001b[0;34m.\u001b[0m\u001b[0mplot\u001b[0m\u001b[0;34m(\u001b[0m\u001b[0mdims\u001b[0m\u001b[0;34m,\u001b[0m \u001b[0mmu_time\u001b[0m\u001b[0;34m,\u001b[0m \u001b[0;34m'-o'\u001b[0m\u001b[0;34m,\u001b[0m \u001b[0mcolor\u001b[0m\u001b[0;34m=\u001b[0m\u001b[0mcolor\u001b[0m\u001b[0;34m[\u001b[0m\u001b[0mj\u001b[0m\u001b[0;34m]\u001b[0m\u001b[0;34m)\u001b[0m\u001b[0;34m\u001b[0m\u001b[0;34m\u001b[0m\u001b[0m\n\u001b[0m\u001b[1;32m     20\u001b[0m             ax.fill_between(\n\u001b[1;32m     21\u001b[0m                             \u001b[0mdims\u001b[0m\u001b[0;34m,\u001b[0m\u001b[0;34m\u001b[0m\u001b[0;34m\u001b[0m\u001b[0m\n",
      "\u001b[0;31mIndexError\u001b[0m: list index out of range"
     ]
    },
    {
     "data": {
      "image/png": "[encoded data removed]",
      "text/plain": [
       "<Figure size 2000x1000 with 1 Axes>"
      ]
     },
     "metadata": {},
     "output_type": "display_data"
    }
   ],
   "source": [
    "color = ['red', 'blue', 'green', 'purple']\n",
    "\n",
    "fig = plt.figure(figsize=(20,10))\n",
    "i_last = len(methods)-1\n",
    "\n",
    "ax = fig.add_subplot(121)\n",
    "for i in range(len(methods)):\n",
    "    n_dims = methods[i]\n",
    "    j = 0\n",
    "    for m in n_dims:\n",
    "        if not (m==\"BFGS\" or m==\"ground_truth\" or m==\"init\"):\n",
    "            mu_time = [estimates[key3][key2]['mu_time'] for key3,v3 in estimates.items() for key2,v2 in v3.items() if key2==m]\n",
    "            std_time = [estimates[key3][key2]['std_time'] for key3,v3 in estimates.items() for key2,v2 in v3.items() if key2==m]\n",
    "            dims = [int(key3) for key3,v3 in estimates.items()]\n",
    "            dims.sort()\n",
    "            mu_time = [x for _, x in sorted(zip(dims, mu_time))]\n",
    "            std_time = [x for _, x in sorted(zip(dims, std_time))]\n",
    "            mu_time, std_time, dims = jnp.stack(mu_time), jnp.stack(std_time), jnp.stack(dims)\n",
    "            ax.plot(dims, mu_time, '-o', color=color[j])\n",
    "            ax.fill_between(\n",
    "                            dims,\n",
    "                            jnp.maximum(mu_time - 1.96 * std_time, \n",
    "                                        jnp.zeros_like(mu_time)),\n",
    "                            jnp.maximum(mu_time + 1.96 * std_time, \n",
    "                                        jnp.zeros_like(mu_time)),\n",
    "                            alpha=0.1,\n",
    "                        )\n",
    "            j += 1\n",
    "ax.set_xlabel(f'Dimension')\n",
    "ax.set_ylabel(f'Time (s)')\n",
    "ax.grid(True)\n",
    "\n",
    "ax = fig.add_subplot(122)\n",
    "for i in range(len(methods)):\n",
    "    n_dims = methods[i]\n",
    "    j = 0\n",
    "    for m in n_dims:\n",
    "        if not (m==\"BFGS\" or m==\"ground_truth\" or m==\"init\"):\n",
    "            mu_time = [estimates[key3][key2]['length'] for key3,v3 in estimates.items() for key2,v2 in v3.items() if key2==m]\n",
    "            dims = [int(key3) for key3,v3 in estimates.items()]\n",
    "            dims.sort()\n",
    "            mu_time = [x for _, x in sorted(zip(dims, mu_time))]\n",
    "            if i == i_last:\n",
    "                ax.plot(dims, mu_time, '-o', label=m, color=color[j])\n",
    "            else:\n",
    "                ax.plot(dims, mu_time, '-o', color=color[j])\n",
    "            j += 1\n",
    "ax.set_xlabel(f'Dimension')\n",
    "ax.set_ylabel(f'Geodesic Length')\n",
    "ax.grid(True)\n",
    "\n",
    "lines_labels = [ax.get_legend_handles_labels() for ax in fig.axes]\n",
    "lines, labels = [sum(lol, []) for lol in zip(*lines_labels)]\n",
    "fig.legend(lines, labels, loc=(0.25,0.2), ncol=5)\n",
    "\n",
    "plt.show()\n",
    "\n",
    "save_path = f'{figure_path}{manifold}_runtime.pdf'\n",
    "fig.savefig(save_path, format='pdf', pad_inches=0.1, bbox_inches='tight')"
   ]
  },
  {
   "cell_type": "markdown",
   "id": "a626d6aa",
   "metadata": {},
   "source": [
    "## Plotting $\\mathbb{S}^{n}$ and Ellipsoid(n) for $T=100$"
   ]
  },
  {
   "cell_type": "code",
   "execution_count": 532,
   "id": "1a4a1e69",
   "metadata": {},
   "outputs": [],
   "source": [
    "geometry = \"riemannian\"\n",
    "T = 100\n",
    "path = f'timing/{geometry}/'\n",
    "figure_path = '../figures/geodesic_runtime/'"
   ]
  },
  {
   "cell_type": "code",
   "execution_count": 533,
   "id": "9fe7afe2",
   "metadata": {},
   "outputs": [],
   "source": [
    "if not (os.path.exists(figure_path)):\n",
    "    os.makedirs(figure_path)"
   ]
  },
  {
   "cell_type": "markdown",
   "id": "07290daf",
   "metadata": {},
   "source": [
    "## Loading $\\mathbb{S}^{n}$"
   ]
  },
  {
   "cell_type": "code",
   "execution_count": 534,
   "id": "30058b84",
   "metadata": {},
   "outputs": [],
   "source": [
    "save_path = ''.join((path, \"Sphere\", '/'))"
   ]
  },
  {
   "cell_type": "code",
   "execution_count": 535,
   "id": "04566e92",
   "metadata": {},
   "outputs": [],
   "source": [
    "onlyfiles = [f for f in os.listdir(save_path) if os.path.isfile(os.path.join(save_path, f))]\n",
    "onlyfiles = [f for f in onlyfiles if f'T={T}.pkl' in f]"
   ]
  },
  {
   "cell_type": "code",
   "execution_count": 536,
   "id": "ff68ef18",
   "metadata": {},
   "outputs": [],
   "source": [
    "sphere_estimates = {}\n",
    "for file in onlyfiles:\n",
    "    file_path = ''.join((save_path, file))\n",
    "    with open(file_path, 'rb') as f:\n",
    "        values = pickle.load(f)\n",
    "    dim = file.replace(manifold, '').replace('.pkl', '').replace('_d=', '').replace(f'_T={T}', '')\n",
    "    sphere_estimates[dim] = values"
   ]
  },
  {
   "cell_type": "markdown",
   "id": "6cf49e57",
   "metadata": {},
   "source": [
    "## Loading Ellipsoid(n)"
   ]
  },
  {
   "cell_type": "code",
   "execution_count": 537,
   "id": "61861c84",
   "metadata": {},
   "outputs": [],
   "source": [
    "save_path = ''.join((path, \"Ellipsoid\", '/'))"
   ]
  },
  {
   "cell_type": "code",
   "execution_count": 538,
   "id": "80fe57f0",
   "metadata": {},
   "outputs": [],
   "source": [
    "onlyfiles = [f for f in os.listdir(save_path) if os.path.isfile(os.path.join(save_path, f))]\n",
    "onlyfiles = [f for f in onlyfiles if f'T={T}.pkl' in f]"
   ]
  },
  {
   "cell_type": "code",
   "execution_count": 539,
   "id": "22dcb8c9",
   "metadata": {},
   "outputs": [],
   "source": [
    "ellipsoid_estimates = {}\n",
    "for file in onlyfiles:\n",
    "    file_path = ''.join((save_path, file))\n",
    "    with open(file_path, 'rb') as f:\n",
    "        values = pickle.load(f)\n",
    "    dim = file.replace(manifold, '').replace('.pkl', '').replace('_d=', '').replace(f'_T={T}', '')\n",
    "    ellipsoid_estimates[dim] = values"
   ]
  },
  {
   "cell_type": "markdown",
   "id": "8509da0d",
   "metadata": {},
   "source": [
    "## Table Comparison"
   ]
  },
  {
   "cell_type": "code",
   "execution_count": 540,
   "id": "9ff4686b",
   "metadata": {},
   "outputs": [],
   "source": [
    "sphere_methods = [list(sphere_estimates[k].keys()) for k,v in sphere_estimates.items()]\n",
    "ellipsoid_methods = [list(ellipsoid_estimates[k].keys()) for k,v in ellipsoid_estimates.items()]"
   ]
  },
  {
   "cell_type": "code",
   "execution_count": 541,
   "id": "cee316d1",
   "metadata": {},
   "outputs": [
    {
     "ename": "ValueError",
     "evalue": "invalid literal for int() with base 10: 'Sphere100'",
     "output_type": "error",
     "traceback": [
      "\u001b[0;31m---------------------------------------------------------------------------\u001b[0m",
      "\u001b[0;31mValueError\u001b[0m                                Traceback (most recent call last)",
      "\u001b[0;32m/tmp/ipykernel_46932/3671799341.py\u001b[0m in \u001b[0;36m<module>\u001b[0;34m\u001b[0m\n\u001b[1;32m     12\u001b[0m             \u001b[0mmu_time\u001b[0m \u001b[0;34m=\u001b[0m \u001b[0;34m[\u001b[0m\u001b[0msphere_estimates\u001b[0m\u001b[0;34m[\u001b[0m\u001b[0mkey3\u001b[0m\u001b[0;34m]\u001b[0m\u001b[0;34m[\u001b[0m\u001b[0mkey2\u001b[0m\u001b[0;34m]\u001b[0m\u001b[0;34m[\u001b[0m\u001b[0;34m'mu_time'\u001b[0m\u001b[0;34m]\u001b[0m \u001b[0;32mfor\u001b[0m \u001b[0mkey3\u001b[0m\u001b[0;34m,\u001b[0m\u001b[0mv3\u001b[0m \u001b[0;32min\u001b[0m \u001b[0msphere_estimates\u001b[0m\u001b[0;34m.\u001b[0m\u001b[0mitems\u001b[0m\u001b[0;34m(\u001b[0m\u001b[0;34m)\u001b[0m \u001b[0;32mfor\u001b[0m \u001b[0mkey2\u001b[0m\u001b[0;34m,\u001b[0m\u001b[0mv2\u001b[0m \u001b[0;32min\u001b[0m \u001b[0mv3\u001b[0m\u001b[0;34m.\u001b[0m\u001b[0mitems\u001b[0m\u001b[0;34m(\u001b[0m\u001b[0;34m)\u001b[0m \u001b[0;32mif\u001b[0m \u001b[0mkey2\u001b[0m\u001b[0;34m==\u001b[0m\u001b[0mm\u001b[0m\u001b[0;34m]\u001b[0m\u001b[0;34m\u001b[0m\u001b[0;34m\u001b[0m\u001b[0m\n\u001b[1;32m     13\u001b[0m             \u001b[0mstd_time\u001b[0m \u001b[0;34m=\u001b[0m \u001b[0;34m[\u001b[0m\u001b[0msphere_estimates\u001b[0m\u001b[0;34m[\u001b[0m\u001b[0mkey3\u001b[0m\u001b[0;34m]\u001b[0m\u001b[0;34m[\u001b[0m\u001b[0mkey2\u001b[0m\u001b[0;34m]\u001b[0m\u001b[0;34m[\u001b[0m\u001b[0;34m'std_time'\u001b[0m\u001b[0;34m]\u001b[0m \u001b[0;32mfor\u001b[0m \u001b[0mkey3\u001b[0m\u001b[0;34m,\u001b[0m\u001b[0mv3\u001b[0m \u001b[0;32min\u001b[0m \u001b[0msphere_estimates\u001b[0m\u001b[0;34m.\u001b[0m\u001b[0mitems\u001b[0m\u001b[0;34m(\u001b[0m\u001b[0;34m)\u001b[0m \u001b[0;32mfor\u001b[0m \u001b[0mkey2\u001b[0m\u001b[0;34m,\u001b[0m\u001b[0mv2\u001b[0m \u001b[0;32min\u001b[0m \u001b[0mv3\u001b[0m\u001b[0;34m.\u001b[0m\u001b[0mitems\u001b[0m\u001b[0;34m(\u001b[0m\u001b[0;34m)\u001b[0m \u001b[0;32mif\u001b[0m \u001b[0mkey2\u001b[0m\u001b[0;34m==\u001b[0m\u001b[0mm\u001b[0m\u001b[0;34m]\u001b[0m\u001b[0;34m\u001b[0m\u001b[0;34m\u001b[0m\u001b[0m\n\u001b[0;32m---> 14\u001b[0;31m             \u001b[0mdims\u001b[0m \u001b[0;34m=\u001b[0m \u001b[0;34m[\u001b[0m\u001b[0mint\u001b[0m\u001b[0;34m(\u001b[0m\u001b[0mkey3\u001b[0m\u001b[0;34m)\u001b[0m \u001b[0;32mfor\u001b[0m \u001b[0mkey3\u001b[0m\u001b[0;34m,\u001b[0m\u001b[0mv3\u001b[0m \u001b[0;32min\u001b[0m \u001b[0msphere_estimates\u001b[0m\u001b[0;34m.\u001b[0m\u001b[0mitems\u001b[0m\u001b[0;34m(\u001b[0m\u001b[0;34m)\u001b[0m\u001b[0;34m]\u001b[0m\u001b[0;34m\u001b[0m\u001b[0;34m\u001b[0m\u001b[0m\n\u001b[0m\u001b[1;32m     15\u001b[0m             \u001b[0mdims\u001b[0m\u001b[0;34m.\u001b[0m\u001b[0msort\u001b[0m\u001b[0;34m(\u001b[0m\u001b[0;34m)\u001b[0m\u001b[0;34m\u001b[0m\u001b[0;34m\u001b[0m\u001b[0m\n\u001b[1;32m     16\u001b[0m             \u001b[0mmu_time\u001b[0m \u001b[0;34m=\u001b[0m \u001b[0;34m[\u001b[0m\u001b[0mx\u001b[0m \u001b[0;32mfor\u001b[0m \u001b[0m_\u001b[0m\u001b[0;34m,\u001b[0m \u001b[0mx\u001b[0m \u001b[0;32min\u001b[0m \u001b[0msorted\u001b[0m\u001b[0;34m(\u001b[0m\u001b[0mzip\u001b[0m\u001b[0;34m(\u001b[0m\u001b[0mdims\u001b[0m\u001b[0;34m,\u001b[0m \u001b[0mmu_time\u001b[0m\u001b[0;34m)\u001b[0m\u001b[0;34m)\u001b[0m\u001b[0;34m]\u001b[0m\u001b[0;34m\u001b[0m\u001b[0;34m\u001b[0m\u001b[0m\n",
      "\u001b[0;32m/tmp/ipykernel_46932/3671799341.py\u001b[0m in \u001b[0;36m<listcomp>\u001b[0;34m(.0)\u001b[0m\n\u001b[1;32m     12\u001b[0m             \u001b[0mmu_time\u001b[0m \u001b[0;34m=\u001b[0m \u001b[0;34m[\u001b[0m\u001b[0msphere_estimates\u001b[0m\u001b[0;34m[\u001b[0m\u001b[0mkey3\u001b[0m\u001b[0;34m]\u001b[0m\u001b[0;34m[\u001b[0m\u001b[0mkey2\u001b[0m\u001b[0;34m]\u001b[0m\u001b[0;34m[\u001b[0m\u001b[0;34m'mu_time'\u001b[0m\u001b[0;34m]\u001b[0m \u001b[0;32mfor\u001b[0m \u001b[0mkey3\u001b[0m\u001b[0;34m,\u001b[0m\u001b[0mv3\u001b[0m \u001b[0;32min\u001b[0m \u001b[0msphere_estimates\u001b[0m\u001b[0;34m.\u001b[0m\u001b[0mitems\u001b[0m\u001b[0;34m(\u001b[0m\u001b[0;34m)\u001b[0m \u001b[0;32mfor\u001b[0m \u001b[0mkey2\u001b[0m\u001b[0;34m,\u001b[0m\u001b[0mv2\u001b[0m \u001b[0;32min\u001b[0m \u001b[0mv3\u001b[0m\u001b[0;34m.\u001b[0m\u001b[0mitems\u001b[0m\u001b[0;34m(\u001b[0m\u001b[0;34m)\u001b[0m \u001b[0;32mif\u001b[0m \u001b[0mkey2\u001b[0m\u001b[0;34m==\u001b[0m\u001b[0mm\u001b[0m\u001b[0;34m]\u001b[0m\u001b[0;34m\u001b[0m\u001b[0;34m\u001b[0m\u001b[0m\n\u001b[1;32m     13\u001b[0m             \u001b[0mstd_time\u001b[0m \u001b[0;34m=\u001b[0m \u001b[0;34m[\u001b[0m\u001b[0msphere_estimates\u001b[0m\u001b[0;34m[\u001b[0m\u001b[0mkey3\u001b[0m\u001b[0;34m]\u001b[0m\u001b[0;34m[\u001b[0m\u001b[0mkey2\u001b[0m\u001b[0;34m]\u001b[0m\u001b[0;34m[\u001b[0m\u001b[0;34m'std_time'\u001b[0m\u001b[0;34m]\u001b[0m \u001b[0;32mfor\u001b[0m \u001b[0mkey3\u001b[0m\u001b[0;34m,\u001b[0m\u001b[0mv3\u001b[0m \u001b[0;32min\u001b[0m \u001b[0msphere_estimates\u001b[0m\u001b[0;34m.\u001b[0m\u001b[0mitems\u001b[0m\u001b[0;34m(\u001b[0m\u001b[0;34m)\u001b[0m \u001b[0;32mfor\u001b[0m \u001b[0mkey2\u001b[0m\u001b[0;34m,\u001b[0m\u001b[0mv2\u001b[0m \u001b[0;32min\u001b[0m \u001b[0mv3\u001b[0m\u001b[0;34m.\u001b[0m\u001b[0mitems\u001b[0m\u001b[0;34m(\u001b[0m\u001b[0;34m)\u001b[0m \u001b[0;32mif\u001b[0m \u001b[0mkey2\u001b[0m\u001b[0;34m==\u001b[0m\u001b[0mm\u001b[0m\u001b[0;34m]\u001b[0m\u001b[0;34m\u001b[0m\u001b[0;34m\u001b[0m\u001b[0m\n\u001b[0;32m---> 14\u001b[0;31m             \u001b[0mdims\u001b[0m \u001b[0;34m=\u001b[0m \u001b[0;34m[\u001b[0m\u001b[0mint\u001b[0m\u001b[0;34m(\u001b[0m\u001b[0mkey3\u001b[0m\u001b[0;34m)\u001b[0m \u001b[0;32mfor\u001b[0m \u001b[0mkey3\u001b[0m\u001b[0;34m,\u001b[0m\u001b[0mv3\u001b[0m \u001b[0;32min\u001b[0m \u001b[0msphere_estimates\u001b[0m\u001b[0;34m.\u001b[0m\u001b[0mitems\u001b[0m\u001b[0;34m(\u001b[0m\u001b[0;34m)\u001b[0m\u001b[0;34m]\u001b[0m\u001b[0;34m\u001b[0m\u001b[0;34m\u001b[0m\u001b[0m\n\u001b[0m\u001b[1;32m     15\u001b[0m             \u001b[0mdims\u001b[0m\u001b[0;34m.\u001b[0m\u001b[0msort\u001b[0m\u001b[0;34m(\u001b[0m\u001b[0;34m)\u001b[0m\u001b[0;34m\u001b[0m\u001b[0;34m\u001b[0m\u001b[0m\n\u001b[1;32m     16\u001b[0m             \u001b[0mmu_time\u001b[0m \u001b[0;34m=\u001b[0m \u001b[0;34m[\u001b[0m\u001b[0mx\u001b[0m \u001b[0;32mfor\u001b[0m \u001b[0m_\u001b[0m\u001b[0;34m,\u001b[0m \u001b[0mx\u001b[0m \u001b[0;32min\u001b[0m \u001b[0msorted\u001b[0m\u001b[0;34m(\u001b[0m\u001b[0mzip\u001b[0m\u001b[0;34m(\u001b[0m\u001b[0mdims\u001b[0m\u001b[0;34m,\u001b[0m \u001b[0mmu_time\u001b[0m\u001b[0;34m)\u001b[0m\u001b[0;34m)\u001b[0m\u001b[0;34m]\u001b[0m\u001b[0;34m\u001b[0m\u001b[0;34m\u001b[0m\u001b[0m\n",
      "\u001b[0;31mValueError\u001b[0m: invalid literal for int() with base 10: 'Sphere100'"
     ]
    },
    {
     "data": {
      "image/png": "[encoded data removed]",
      "text/plain": [
       "<Figure size 2000x2000 with 1 Axes>"
      ]
     },
     "metadata": {},
     "output_type": "display_data"
    }
   ],
   "source": [
    "color = ['red', 'blue', 'green', 'purple']\n",
    "mehtods = ['SGD', 'ADAM', 'GEORCE']\n",
    "dims = [2,3,5,10,20,50,100]\n",
    "\n",
    "fig = plt.figure(figsize=(20,20))\n",
    "i_last = len(sphere_methods)-1\n",
    "\n",
    "ax = fig.add_subplot(114)\n",
    "for m in methods:\n",
    "    vals = []\n",
    "    for d in dims:\n",
    "        if 'length' in sphere_methods[str(d)][m].keys():\n",
    "            vals.append(sphere_methods[str(d)][m]['length'])\n",
    "        else:\n",
    "            vals.append(jnp.nan)\n",
    "    vals = jnp.stack(vals)\n",
    "\n",
    "for i in range(len(sphere_methods)):\n",
    "    n_dims = sphere_methods[i]\n",
    "    j = 0\n",
    "    for m in n_dims:\n",
    "        if not (m==\"BFGS\" or m==\"ground_truth\" or m==\"init\"):\n",
    "            mu_time = [sphere_estimates[key3][key2]['mu_time'] for key3,v3 in sphere_estimates.items() for key2,v2 in v3.items() if key2==m]\n",
    "            std_time = [sphere_estimates[key3][key2]['std_time'] for key3,v3 in sphere_estimates.items() for key2,v2 in v3.items() if key2==m]\n",
    "            dims = [int(key3) for key3,v3 in sphere_estimates.items()]\n",
    "            dims.sort()\n",
    "            mu_time = [x for _, x in sorted(zip(dims, mu_time))]\n",
    "            std_time = [x for _, x in sorted(zip(dims, std_time))]\n",
    "            mu_time, std_time, dims = jnp.stack(mu_time), jnp.stack(std_time), jnp.stack(dims)\n",
    "            ax.plot(dims, mu_time, '-o', color=color[j])\n",
    "            ax.fill_between(\n",
    "                            dims,\n",
    "                            jnp.maximum(mu_time - 1.96 * std_time, \n",
    "                                        jnp.zeros_like(mu_time)),\n",
    "                            jnp.maximum(mu_time + 1.96 * std_time, \n",
    "                                        jnp.zeros_like(mu_time)),\n",
    "                            alpha=0.1,\n",
    "                        )\n",
    "            j += 1\n",
    "ax.set_xlabel(f'Dimension')\n",
    "ax.set_ylabel(f'Time (s)')\n",
    "ax.grid(True)\n",
    "\n",
    "ax = fig.add_subplot(222)\n",
    "for i in range(len(sphere_methods)):\n",
    "    n_dims = sphere_methods[i]\n",
    "    j = 0\n",
    "    for m in n_dims:\n",
    "        if not (m==\"BFGS\" or m==\"ground_truth\" or m==\"init\"):\n",
    "            mu_time = [sphere_estimates[key3][key2]['length'] for key3,v3 in sphere_estimates.items() for key2,v2 in v3.items() if key2==m]\n",
    "            dims = [int(key3) for key3,v3 in sphere_estimates.items()]\n",
    "            dims.sort()\n",
    "            mu_time = [x for _, x in sorted(zip(dims, mu_time))]\n",
    "            if i == i_last:\n",
    "                ax.plot(dims, mu_time, '-o', color=color[j])\n",
    "            else:\n",
    "                ax.plot(dims, mu_time, '-o', color=color[j])\n",
    "            j += 1\n",
    "ax.set_xlabel(f'Dimension')\n",
    "ax.set_ylabel(f'Geodesic Length')\n",
    "ax.grid(True)\n",
    "\n",
    "i_last = len(ellipsoid_methods)-1\n",
    "\n",
    "ax = fig.add_subplot(223)\n",
    "for i in range(len(ellipsoid_methods)):\n",
    "    n_dims = ellipsoid_methods[i]\n",
    "    j = 0\n",
    "    for m in n_dims:\n",
    "        if not (m==\"BFGS\" or m==\"ground_truth\" or m==\"init\"):\n",
    "            mu_time = [ellipsoid_estimates[key3][key2]['mu_time'] for key3,v3 in ellipsoid_estimates.items() for key2,v2 in v3.items() if key2==m]\n",
    "            std_time = [ellipsoid_estimates[key3][key2]['std_time'] for key3,v3 in ellipsoid_estimates.items() for key2,v2 in v3.items() if key2==m]\n",
    "            dims = [int(key3) for key3,v3 in ellipsoid_estimates.items()]\n",
    "            dims.sort()\n",
    "            mu_time = [x for _, x in sorted(zip(dims, mu_time))]\n",
    "            std_time = [x for _, x in sorted(zip(dims, std_time))]\n",
    "            mu_time, std_time, dims = jnp.stack(mu_time), jnp.stack(std_time), jnp.stack(dims)\n",
    "            ax.plot(dims, mu_time, '-o', color=color[j])\n",
    "            ax.fill_between(\n",
    "                            dims,\n",
    "                            jnp.maximum(mu_time - 1.96 * std_time, \n",
    "                                        jnp.zeros_like(mu_time)),\n",
    "                            jnp.maximum(mu_time + 1.96 * std_time, \n",
    "                                        jnp.zeros_like(mu_time)),\n",
    "                            alpha=0.1,\n",
    "                        )\n",
    "            j += 1\n",
    "ax.set_xlabel(f'Dimension')\n",
    "ax.set_ylabel(f'Time (s)')\n",
    "ax.grid(True)\n",
    "\n",
    "ax = fig.add_subplot(224)\n",
    "for i in range(len(ellipsoid_methods)):\n",
    "    n_dims = ellipsoid_methods[i]\n",
    "    j = 0\n",
    "    for m in n_dims:\n",
    "        if not (m==\"BFGS\" or m==\"ground_truth\" or m==\"init\"):\n",
    "            mu_time = [ellipsoid_estimates[key3][key2]['length'] for key3,v3 in ellipsoid_estimates.items() for key2,v2 in v3.items() if key2==m]\n",
    "            dims = [int(key3) for key3,v3 in ellipsoid_estimates.items()]\n",
    "            dims.sort()\n",
    "            mu_time = [x for _, x in sorted(zip(dims, mu_time))]\n",
    "            if i == i_last:\n",
    "                ax.plot(dims, mu_time, '-o', label=m, color=color[j])\n",
    "            else:\n",
    "                ax.plot(dims, mu_time, '-o', color=color[j])\n",
    "            j += 1\n",
    "ax.set_xlabel(f'Dimension')\n",
    "ax.set_ylabel(f'Geodesic Length')\n",
    "ax.grid(True)\n",
    "\n",
    "lines_labels = [ax.get_legend_handles_labels() for ax in fig.axes]\n",
    "lines, labels = [sum(lol, []) for lol in zip(*lines_labels)]\n",
    "fig.legend(lines, labels, loc=(0.30,0.45), ncol=5)\n",
    "\n",
    "\n",
    "\n",
    "fig.tight_layout()\n",
    "\n",
    "plt.show()\n",
    "\n",
    "save_path = f'{figure_path}sphere_ellipsoid_runtime.pdf'\n",
    "fig.savefig(save_path, format='pdf', pad_inches=0.1, bbox_inches='tight')"
   ]
  },
  {
   "cell_type": "code",
   "execution_count": null,
   "id": "7e5de09b",
   "metadata": {},
   "outputs": [],
   "source": []
  }
 ],
 "metadata": {
  "kernelspec": {
   "display_name": "Python 3 (ipykernel)",
   "language": "python",
   "name": "python3"
  },
  "language_info": {
   "codemirror_mode": {
    "name": "ipython",
    "version": 3
   },
   "file_extension": ".py",
   "mimetype": "text/x-python",
   "name": "python",
   "nbconvert_exporter": "python",
   "pygments_lexer": "ipython3",
   "version": "3.9.13"
  }
 },
 "nbformat": 4,
 "nbformat_minor": 5
}
