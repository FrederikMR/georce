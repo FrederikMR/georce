{
 "cells": [
  {
   "cell_type": "markdown",
   "id": "7de7657d",
   "metadata": {},
   "source": [
    "# Finsler Navigation Geodesics"
   ]
  },
  {
   "cell_type": "code",
   "execution_count": 1,
   "id": "f1f382a4",
   "metadata": {},
   "outputs": [
    {
     "name": "stderr",
     "output_type": "stream",
     "text": [
      "An NVIDIA GPU may be present on this machine, but a CUDA-enabled jaxlib is not installed. Falling back to cpu.\n"
     ]
    }
   ],
   "source": [
    "#Modules\n",
    "import jax.numpy as jnp\n",
    "import jax.random as jrandom\n",
    "from jax import vmap\n",
    "from jax import Array\n",
    "\n",
    "from abc import ABC\n",
    "\n",
    "import matplotlib.pyplot as plt\n",
    "import matplotlib as mpl\n",
    "from mpl_toolkits.mplot3d import Axes3D\n",
    "from mpl_toolkits.axes_grid1 import make_axes_locatable\n",
    "import matplotlib.ticker as tkr\n",
    "\n",
    "import os\n",
    "\n",
    "from geometry.geodesics.finsler import JAXOptimization, ScipyOptimization, GEORCE\n",
    "from geometry.manifolds.finsler import RiemannianNavigation\n",
    "from geometry.manifolds.riemannian import nEllipsoid, nSphere, nParaboloid, T2"
   ]
  },
  {
   "cell_type": "code",
   "execution_count": 2,
   "id": "eb1f6129",
   "metadata": {},
   "outputs": [],
   "source": [
    "plt.rcParams.update({'font.size': 25})\n",
    "cbformat = tkr.ScalarFormatter()   # create the formatter\n",
    "cbformat.set_powerlimits((-2,2)) "
   ]
  },
  {
   "cell_type": "code",
   "execution_count": 3,
   "id": "6e33a408",
   "metadata": {},
   "outputs": [],
   "source": [
    "figure_path = '../figures/finsler/geodesics/'"
   ]
  },
  {
   "cell_type": "code",
   "execution_count": 4,
   "id": "3ccb1525",
   "metadata": {},
   "outputs": [],
   "source": [
    "if not (os.path.exists(figure_path)):\n",
    "    os.makedirs(figure_path)"
   ]
  },
  {
   "cell_type": "markdown",
   "id": "234a1b32",
   "metadata": {},
   "source": [
    "## Hyper-Parameters"
   ]
  },
  {
   "cell_type": "code",
   "execution_count": 5,
   "id": "2dda4cc3",
   "metadata": {},
   "outputs": [],
   "source": [
    "T=100\n",
    "tol = 1e-4\n",
    "max_iter = 100\n",
    "\n",
    "jax_lr_rate = 0.01"
   ]
  },
  {
   "cell_type": "markdown",
   "id": "2fce3274",
   "metadata": {},
   "source": [
    "### Estimation Plot "
   ]
  },
  {
   "cell_type": "code",
   "execution_count": 6,
   "id": "b6ac09b3",
   "metadata": {},
   "outputs": [],
   "source": [
    "def compute_estimates(M, Geodesic, z0, zT, base_curve):\n",
    "    \n",
    "    new_method = {}\n",
    "    zt, grad, idx = Geodesic(z0,zT, \"while\")\n",
    "    xt = vmap(lambda z: M.f(z))(zt)\n",
    "    length = M.length(zt)\n",
    "    \n",
    "    new_method['zt'] = zt\n",
    "    new_method['grad'] = grad\n",
    "    new_method['idx'] = idx\n",
    "    new_method['xt'] = xt\n",
    "    new_method['length'] = length\n",
    "    \n",
    "    zt, grad, _ = Geodesic(z0,zT, \"for\")\n",
    "    error_base_curve = vmap(lambda z: jnp.linalg.norm(z-base_curve))(zt)\n",
    "    error_iter_curve = vmap(lambda z1,z2: jnp.linalg.norm(z1-z2))(zt[1:], zt[:-1])\n",
    "    grad_curve = vmap(lambda z: jnp.linalg.norm(Geodesic.Denergy(z[1:-1])))(zt)\n",
    "    \n",
    "    new_method['error_base_curve'] = error_base_curve\n",
    "    new_method['error_iter_curve'] = error_iter_curve\n",
    "    new_method['grad_curve'] = grad_curve\n",
    "    \n",
    "    return new_method"
   ]
  },
  {
   "cell_type": "code",
   "execution_count": 7,
   "id": "70cda314",
   "metadata": {},
   "outputs": [],
   "source": [
    "def compute_methods(M, z0, zT, rho=0.9):\n",
    "    \n",
    "    estimates = {}\n",
    "    \n",
    "    Geodesic = GEORCE(M=M,\n",
    "                      init_fun=None,\n",
    "                      T=T,\n",
    "                      line_search_method=\"soft\",\n",
    "                      max_iter=max_iter,\n",
    "                      line_search_params = {'rho': rho},\n",
    "                     )\n",
    "    base_curve, *_ = Geodesic(z0,zT, \"while\")\n",
    "    \n",
    "    Geodesic = GEORCE(M=M,\n",
    "                      init_fun=None,\n",
    "                      T=T,\n",
    "                      line_search_method=\"soft\",\n",
    "                      max_iter=max_iter,\n",
    "                      line_search_params = {'rho':rho}\n",
    "                     )\n",
    "    estimates['GEORCE'] = compute_estimates(M, Geodesic, z0, zT, base_curve)\n",
    "\n",
    "    Geodesic = JAXOptimization(M = M,\n",
    "                              init_fun=None,\n",
    "                              lr_rate=jax_lr_rate,\n",
    "                              optimizer=None,\n",
    "                              T=T,\n",
    "                              max_iter=max_iter,\n",
    "                              tol=tol)\n",
    "    estimates['ADAM'] = compute_estimates(M, Geodesic, z0, zT, base_curve)\n",
    "\n",
    "    Geodesic = ScipyOptimization(M = M,\n",
    "                                 T=T,\n",
    "                                 tol=tol,\n",
    "                                 max_iter=max_iter,\n",
    "                                 method=\"BFGS\",\n",
    "                                )\n",
    "    estimates['BFGS'] = compute_estimates(M, Geodesic, z0, zT, base_curve)\n",
    "    \n",
    "    zt = Geodesic.init_fun(z0,zT, T)\n",
    "    xt = vmap(lambda z: M.f(z))(zt)\n",
    "    length = M.length(zt)\n",
    "    \n",
    "    new_method = {}\n",
    "    new_method['zt'] = zt\n",
    "    new_method['grad'] = None\n",
    "    new_method['idx'] = None\n",
    "    new_method['xt'] = xt\n",
    "    new_method['length'] = length\n",
    "    estimates['Initilization'] = new_method\n",
    "    \n",
    "    return estimates"
   ]
  },
  {
   "cell_type": "markdown",
   "id": "6171aa76",
   "metadata": {},
   "source": [
    "## Estimating Geodesics"
   ]
  },
  {
   "cell_type": "code",
   "execution_count": 8,
   "id": "1ac42d6e",
   "metadata": {},
   "outputs": [],
   "source": [
    "def force_fun(z, M):\n",
    "    \n",
    "    val = jnp.cos(z)\n",
    "    \n",
    "    val2 = jnp.sqrt(jnp.einsum('i,ij,j->', val, M.G(z), val))\n",
    "    \n",
    "    return jnp.sin(z)*val/val2\n",
    "    \n",
    "v0 = 1.5"
   ]
  },
  {
   "cell_type": "markdown",
   "id": "b5d2a0ab",
   "metadata": {},
   "source": [
    "### Ellipsoid(2)"
   ]
  },
  {
   "cell_type": "code",
   "execution_count": 9,
   "id": "56bcec4d",
   "metadata": {},
   "outputs": [],
   "source": [
    "params = jnp.linspace(0.5,1.0,3)[::-1]\n",
    "RM = nEllipsoid(dim=2, params=params)\n",
    "\n",
    "z0 = -jnp.linspace(0.5,1,2)\n",
    "zT = jnp.ones(2, dtype=jnp.float32)\n",
    "\n",
    "e2_x0 = RM.f(z0)\n",
    "e2_xT = RM.f(zT)"
   ]
  },
  {
   "cell_type": "code",
   "execution_count": 10,
   "id": "1636f823",
   "metadata": {},
   "outputs": [],
   "source": [
    "M = RiemannianNavigation(RM=RM,\n",
    "                         force_fun=lambda z: force_fun(z, RM),\n",
    "                         v0=v0,\n",
    "                        )"
   ]
  },
  {
   "cell_type": "code",
   "execution_count": null,
   "id": "1c796edc",
   "metadata": {
    "scrolled": true
   },
   "outputs": [],
   "source": [
    "ellipsoid_methods = compute_methods(M, z0, zT, rho=0.5)"
   ]
  },
  {
   "cell_type": "markdown",
   "id": "2533689f",
   "metadata": {},
   "source": [
    "### $\\mathbb{S}^{2}$"
   ]
  },
  {
   "cell_type": "code",
   "execution_count": null,
   "id": "c19eda75",
   "metadata": {},
   "outputs": [],
   "source": [
    "RM = nSphere(dim=2)\n",
    "\n",
    "z0 = -jnp.linspace(0,1,2)\n",
    "zT = jnp.ones(2, dtype=jnp.float32)\n",
    "\n",
    "s2_x0 = RM.f(z0)\n",
    "s2_xT = RM.f(zT)"
   ]
  },
  {
   "cell_type": "code",
   "execution_count": null,
   "id": "94e09314",
   "metadata": {},
   "outputs": [],
   "source": [
    "M = RiemannianNavigation(RM=RM,\n",
    "                         force_fun=lambda z: force_fun(z, RM),\n",
    "                         v0=v0,\n",
    "                        )"
   ]
  },
  {
   "cell_type": "code",
   "execution_count": null,
   "id": "74256c1c",
   "metadata": {
    "scrolled": true
   },
   "outputs": [],
   "source": [
    "sphere_methods = compute_methods(M, z0, zT, rho=0.5)"
   ]
  },
  {
   "cell_type": "markdown",
   "id": "784bb720",
   "metadata": {},
   "source": [
    "### Paraboloid(2)"
   ]
  },
  {
   "cell_type": "code",
   "execution_count": null,
   "id": "3e2c008f",
   "metadata": {},
   "outputs": [],
   "source": [
    "RM = nParaboloid(dim=2)\n",
    "z0 = -jnp.linspace(0,1,2)\n",
    "zT = jnp.ones(2)\n",
    "\n",
    "p2_x0 = RM.f(z0)\n",
    "p2_xT = RM.f(zT)"
   ]
  },
  {
   "cell_type": "code",
   "execution_count": null,
   "id": "f5c66f1d",
   "metadata": {},
   "outputs": [],
   "source": [
    "M = RiemannianNavigation(RM=RM,\n",
    "                         force_fun=lambda z: force_fun(z, RM),\n",
    "                         v0=v0,\n",
    "                        )"
   ]
  },
  {
   "cell_type": "code",
   "execution_count": null,
   "id": "6958f2bc",
   "metadata": {},
   "outputs": [],
   "source": [
    "paraboloid_methods = compute_methods(M, z0, zT, rho=0.5)"
   ]
  },
  {
   "cell_type": "markdown",
   "id": "13d41817",
   "metadata": {},
   "source": [
    "### $\\mathbb{T}^{2}$"
   ]
  },
  {
   "cell_type": "code",
   "execution_count": null,
   "id": "ad08a0fa",
   "metadata": {},
   "outputs": [],
   "source": [
    "RM = T2(R=3.0, r=1.0)\n",
    "z0 = jnp.array([0.0, 0.0])\n",
    "zT = jnp.array([5*jnp.pi/4, 5*jnp.pi/4])\n",
    "\n",
    "t2_x0 = RM.f(z0)\n",
    "t2_xT = RM.f(zT)"
   ]
  },
  {
   "cell_type": "code",
   "execution_count": null,
   "id": "36ee6977",
   "metadata": {},
   "outputs": [],
   "source": [
    "M = RiemannianNavigation(RM=RM,\n",
    "                         force_fun=lambda z: force_fun(z, RM),\n",
    "                         v0=v0,\n",
    "                        )"
   ]
  },
  {
   "cell_type": "code",
   "execution_count": null,
   "id": "60928017",
   "metadata": {},
   "outputs": [],
   "source": [
    "torus_methods = compute_methods(M, z0, zT, rho=0.5)"
   ]
  },
  {
   "cell_type": "markdown",
   "id": "b81ef5f9",
   "metadata": {},
   "source": [
    "## Plotting Geodesics"
   ]
  },
  {
   "cell_type": "code",
   "execution_count": null,
   "id": "3fa16882",
   "metadata": {},
   "outputs": [],
   "source": [
    "class EllipsoidPlot(ABC):\n",
    "    def __init__(self, \n",
    "                 params=jnp.linspace(0.5,1.0,3)[::-1],\n",
    "                ):\n",
    "        \n",
    "        self.M = nEllipsoid(dim=2, params=params)\n",
    "        self.force_fun = lambda z: force_fun(z, self.M)\n",
    "        self.params = params\n",
    "\n",
    "    def heat_map(self, X, Y, Z)->Array:\n",
    "        \n",
    "        z = vmap(lambda x,y,z: vmap(lambda x1,y1,z1: self.M.invf(jnp.stack((x1,y1,z1))))(x,y,z))(X,Y,Z)\n",
    "        \n",
    "        heat_map = vmap(lambda z1: vmap(lambda z: jnp.linalg.norm(self.force_fun(z)))(z1))(z)\n",
    "        \n",
    "        return heat_map\n",
    "    \n",
    "    def unit_direction(self, n_points:int=100)->Array:\n",
    "        \n",
    "        X,Y,Z = self.grid(n_points)\n",
    "        \n",
    "        z = vmap(lambda x,y,z: vmap(lambda x1,y1,z1: self.M.invf(jnp.stack((x1,y1,z1))))(x,y,z))(X,Y,Z)\n",
    "        \n",
    "        force = vmap(lambda z1: vmap(lambda z: jnp.dot(self.M.Jf(z), self.force_fun(z)))(z1))(z)\n",
    "        \n",
    "        return X,Y,Z,force\n",
    "        \n",
    "    def grid(self, n_points:int=100)->Array:\n",
    "        \n",
    "        theta = jnp.linspace(0.0, jnp.pi*1, n_points)\n",
    "        phi   = jnp.linspace(0.0, jnp.pi*2, n_points)\n",
    "\n",
    "        # Creating the coordinate grid for the unit sphere.\n",
    "        x1 = jnp.outer(jnp.sin(theta), jnp.cos(phi))\n",
    "        x2 = jnp.outer(jnp.sin(theta), jnp.sin(phi))\n",
    "        x3 = jnp.outer(jnp.cos(theta), jnp.ones(n_points))\n",
    "        \n",
    "        return self.params[0]*x1,self.params[1]*x2,self.params[2]*x3\n",
    "         "
   ]
  },
  {
   "cell_type": "code",
   "execution_count": null,
   "id": "9bcef589",
   "metadata": {},
   "outputs": [],
   "source": [
    "class TorusPlot(ABC):\n",
    "    def __init__(self, R:float=3.0, r:float=1.0):\n",
    "        \n",
    "        self.R = R\n",
    "        self.r = r\n",
    "        self.M = T2(R=R, r=r)\n",
    "        self.force_fun = lambda z: force_fun(z, self.M)\n",
    "        \n",
    "    def heat_map(self, n_points:int=100)->Array:\n",
    "        \n",
    "        U = jnp.linspace(0, 2*jnp.pi, n_points)\n",
    "        V = jnp.linspace(0, 2*jnp.pi, n_points)\n",
    "        U, V = jnp.meshgrid(U, V)\n",
    "        \n",
    "        heat_map = vmap(lambda u1,v1: \\\n",
    "                        vmap(lambda u,v: \\\n",
    "                             jnp.linalg.norm(self.force_fun(jnp.stack((u,v)))))(u1,v1))(U,V)\n",
    "        \n",
    "        return heat_map\n",
    "    \n",
    "    def unit_direction(self, n_points:int=100)->Array:\n",
    "        \n",
    "        U = jnp.linspace(0, 2*jnp.pi, n_points)\n",
    "        V = jnp.linspace(0, 2*jnp.pi, n_points)\n",
    "        U, V = jnp.meshgrid(U, V)\n",
    "        \n",
    "        force = vmap(lambda u1,v1: \\\n",
    "                     vmap(lambda u,v: jnp.dot(self.M.Jf(jnp.stack((u,v))),\n",
    "                                              self.force_fun(jnp.stack((u,v)))))(u1,v1))(U,V)\n",
    "        \n",
    "        X = (self.R+self.r*jnp.cos(V))*jnp.cos(U)\n",
    "        Y = (self.R+self.r*jnp.cos(V))*jnp.sin(U)\n",
    "        Z = self.r*jnp.sin(V)\n",
    "        \n",
    "        return X,Y,Z,force\n",
    "        \n",
    "    def grid(self, n_points:int=100):\n",
    "        \n",
    "        U = jnp.linspace(0, 2*jnp.pi, n_points)\n",
    "        V = jnp.linspace(0, 2*jnp.pi, n_points)\n",
    "        U, V = jnp.meshgrid(U, V)\n",
    "        X = (self.R+self.r*jnp.cos(V))*jnp.cos(U)\n",
    "        Y = (self.R+self.r*jnp.cos(V))*jnp.sin(U)\n",
    "        Z = self.r*jnp.sin(V)\n",
    "        \n",
    "        return X, Y, Z"
   ]
  },
  {
   "cell_type": "code",
   "execution_count": null,
   "id": "2489e799",
   "metadata": {},
   "outputs": [],
   "source": [
    "class ParaboloidPlot(ABC):\n",
    "    def __init__(self):\n",
    "        \n",
    "        self.M = nParaboloid(dim=2)\n",
    "        self.force_fun = lambda z: force_fun(z, self.M)\n",
    "        \n",
    "        return\n",
    "    \n",
    "    def heat_map(self, n_points:int=100)->Array:\n",
    "        \n",
    "        x1 = jnp.linspace(-2.0, 2.0, n_points)\n",
    "        x2 = jnp.linspace(-2.0,2.0, n_points)\n",
    "        \n",
    "        X1, X2 = jnp.meshgrid(x1,x2)\n",
    "        \n",
    "        heat_map = vmap(lambda u1,v1: \\\n",
    "                        vmap(lambda u,v: \\\n",
    "                             jnp.linalg.norm(self.force_fun(jnp.stack((u,v)))))(u1,v1))(X1,X2)\n",
    "        \n",
    "        return heat_map\n",
    "    \n",
    "    def unit_direction(self, n_points:int=100)->Array:\n",
    "        \n",
    "        x1 = jnp.linspace(-2.0, 2.0, n_points)\n",
    "        x2 = jnp.linspace(-2.0,2.0, n_points)\n",
    "        \n",
    "        X1, X2 = jnp.meshgrid(x1,x2)\n",
    "        \n",
    "        force = vmap(lambda u1,v1: \\\n",
    "                     vmap(lambda u,v: jnp.dot(self.M.Jf(jnp.stack((u,v))),\n",
    "                                              self.force_fun(jnp.stack((u,v)))))(u1,v1))(X1,X2)\n",
    "        \n",
    "        return X1, X2, X1**2+X2**2, force\n",
    "\n",
    "    def grid(self, n_points:int=100):\n",
    "        \n",
    "        x1 = jnp.linspace(-2.0, 2.0, n_points)\n",
    "        x2 = jnp.linspace(-2.0,2.0, n_points)\n",
    "        \n",
    "        X1, X2 = jnp.meshgrid(x1,x2)\n",
    "        \n",
    "        return X1, X2, X1**2+X2**2"
   ]
  },
  {
   "cell_type": "code",
   "execution_count": null,
   "id": "888360ce",
   "metadata": {},
   "outputs": [],
   "source": [
    "fig = plt.figure(figsize=(40,10))\n",
    "\n",
    "#plotting sphere\n",
    "plot_sphere = EllipsoidPlot(params=jnp.ones(3))\n",
    "x1,x2,x3 = plot_sphere.grid(100)\n",
    "heat_map = plot_sphere.heat_map(x1,x2,x3)\n",
    "field = plot_sphere.unit_direction(10)\n",
    "ax = fig.add_subplot(141, projection='3d')\n",
    "ax.plot_surface(x1, x2, x3, rstride=1, cstride=1, color='cyan', alpha=0.2,\n",
    "               facecolors=plt.cm.jet(heat_map))\n",
    "ax.quiver(field[0], field[1], field[2], \n",
    "          field[-1][:,:,0], field[-1][:,:,1], field[-1][:,:,2], color='black', length=0.2, normalize=True)\n",
    "for key, value in sphere_methods.items():\n",
    "    if value['idx'] is not None:\n",
    "        ax.plot(value['xt'][:,0], value['xt'][:,1], value['xt'][:,2], alpha=1.0, \n",
    "            label=f\"{key}: \\n-Iterations: {value['idx']}, Length={value['length']:.4f}\", linewidth=5.0)\n",
    "    else:\n",
    "        ax.plot(value['xt'][:,0], value['xt'][:,1], value['xt'][:,2], alpha=1.0, \n",
    "                label=f\"{key}: \\n-Length={value['length']:.4f}\", linewidth=5.0)\n",
    "\n",
    "    \n",
    "ax.scatter(s2_x0[0], s2_x0[1], s2_x0[2], color='black', alpha=1.0, s=100)\n",
    "ax.scatter(s2_xT[0], s2_xT[1], s2_xT[2], color='black', alpha=1.0, s=100)\n",
    "ax.set_box_aspect([1,1,1])\n",
    "ax.set_xlim([-1.0,1.0])\n",
    "ax.set_ylim([-1.0,1.0])\n",
    "ax.set_zlim([-1.0,1.0])\n",
    "ax.set_axis_off()\n",
    "ax.view_init(elev=180., azim=90)\n",
    "lines_labels = [ax.get_legend_handles_labels()]\n",
    "lines, labels = [sum(lol, []) for lol in zip(*lines_labels)]\n",
    "fig.legend(lines, labels, loc=(0.0,0.0), ncol=1)\n",
    "\n",
    "#plotting paraboloid\n",
    "plot_sphere = ParaboloidPlot()\n",
    "x1,x2,x3 = plot_sphere.grid(100)\n",
    "heat_map = plot_sphere.heat_map(100)\n",
    "field = plot_sphere.unit_direction(10)\n",
    "ax = fig.add_subplot(142, projection='3d')\n",
    "ax.plot_surface(x1, x2, x3, rstride=1, cstride=1, color='cyan', alpha=0.2,\n",
    "               facecolors=plt.cm.jet(heat_map))\n",
    "ax.quiver(field[0], field[1], field[2], \n",
    "          field[-1][:,:,0], field[-1][:,:,1], field[-1][:,:,2], color='black', length=0.2, normalize=True)\n",
    "for key, value in paraboloid_methods.items():\n",
    "    if value['idx'] is not None:\n",
    "        ax.plot(value['xt'][:,0], value['xt'][:,1], value['xt'][:,2], alpha=1.0, \n",
    "            label=f\"{key}: \\n-Iterations: {value['idx']}, Length={value['length']:.4f}\", linewidth=5.0)\n",
    "    else:\n",
    "        ax.plot(value['xt'][:,0], value['xt'][:,1], value['xt'][:,2], alpha=1.0, \n",
    "                label=f\"{key}: \\n-Length={value['length']:.4f}\", linewidth=5.0)\n",
    "\n",
    "    \n",
    "ax.scatter(p2_x0[0], p2_x0[1], p2_x0[2], color='black', alpha=1.0, s=100)\n",
    "ax.scatter(p2_xT[0], p2_xT[1], p2_xT[2], color='black', alpha=1.0, s=100)\n",
    "#ax.set_box_aspect([1,1,1])\n",
    "#ax.set_xlim([-1.0,1.0])\n",
    "#ax.set_ylim([-1.0,1.0])\n",
    "#ax.set_zlim([-1.0,1.0])\n",
    "ax.set_axis_off()\n",
    "ax.view_init(elev=40., azim=110.)\n",
    "lines_labels = [ax.get_legend_handles_labels()]\n",
    "lines, labels = [sum(lol, []) for lol in zip(*lines_labels)]\n",
    "fig.legend(lines, labels, loc=(0.25,0.0), ncol=1)\n",
    "\n",
    "#plotting Ellipsoid\n",
    "plot_sphere = EllipsoidPlot()\n",
    "x1,x2,x3 = plot_sphere.grid(100)\n",
    "heat_map = plot_sphere.heat_map(x1,x2,x3)\n",
    "field = plot_sphere.unit_direction(10)\n",
    "ax = fig.add_subplot(143, projection='3d')\n",
    "ax.plot_surface(x1, x2, x3, rstride=1, cstride=1, color='cyan', alpha=0.2,\n",
    "               facecolors=plt.cm.jet(heat_map))\n",
    "ax.quiver(field[0], field[1], field[2], \n",
    "          field[-1][:,:,0], field[-1][:,:,1], field[-1][:,:,2], color='black', length=0.2, normalize=True)\n",
    "for key, value in ellipsoid_methods.items():\n",
    "    if value['idx'] is not None:\n",
    "        ax.plot(value['xt'][:,0], value['xt'][:,1], value['xt'][:,2], alpha=1.0, \n",
    "            label=f\"{key}: \\n-Iterations: {value['idx']}, Length={value['length']:.4f}\", linewidth=5.0)\n",
    "    else:\n",
    "        ax.plot(value['xt'][:,0], value['xt'][:,1], value['xt'][:,2], alpha=1.0, \n",
    "                label=f\"{key}: \\n-Length={value['length']:.4f}\", linewidth=5.0)\n",
    "\n",
    "    \n",
    "ax.scatter(e2_x0[0], e2_x0[1], e2_x0[2], color='black', alpha=1.0, s=100)\n",
    "ax.scatter(e2_xT[0], e2_xT[1], e2_xT[2], color='black', alpha=1.0, s=100)\n",
    "#ax.set_box_aspect([1,1,1])\n",
    "#ax.set_xlim([-1.0,1.0])\n",
    "#ax.set_ylim([-1.0,1.0])\n",
    "#ax.set_zlim([-1.0,1.0])\n",
    "ax.set_axis_off()\n",
    "ax.view_init(elev=180., azim=90)\n",
    "lines_labels = [ax.get_legend_handles_labels()]\n",
    "lines, labels = [sum(lol, []) for lol in zip(*lines_labels)]\n",
    "fig.legend(lines, labels, loc=(0.48, 0.0), ncol=1)\n",
    "\n",
    "#plotting Torus\n",
    "plot_sphere = TorusPlot(R=3.0, r=1.0)\n",
    "x1,x2,x3 = plot_sphere.grid(100)\n",
    "heat_map = plot_sphere.heat_map(100)\n",
    "field = plot_sphere.unit_direction(10)\n",
    "ax = fig.add_subplot(144, projection='3d')\n",
    "ax.plot_surface(x1, x2, x3, rstride=1, cstride=1, color='cyan', alpha=0.2,\n",
    "               facecolors=plt.cm.jet(heat_map))\n",
    "ax.quiver(field[0], field[1], field[2], \n",
    "          field[-1][:,:,0], field[-1][:,:,1], field[-1][:,:,2], color='black', length=0.2, normalize=True)\n",
    "for key, value in torus_methods.items():\n",
    "    if value['idx'] is not None:\n",
    "        ax.plot(value['xt'][:,0], value['xt'][:,1], value['xt'][:,2], alpha=1.0, \n",
    "            label=f\"{key}: \\n-Iterations: {value['idx']}, Length={value['length']:.4f}\", linewidth=5.0)\n",
    "    else:\n",
    "        ax.plot(value['xt'][:,0], value['xt'][:,1], value['xt'][:,2], alpha=1.0, \n",
    "                label=f\"{key}: \\n-Length={value['length']:.4f}\", linewidth=5.0)\n",
    "\n",
    "    \n",
    "ax.scatter(t2_x0[0], t2_x0[1], t2_x0[2], color='black', alpha=1.0, s=100)\n",
    "ax.scatter(t2_xT[0], t2_xT[1], t2_xT[2], color='black', alpha=1.0, s=100)\n",
    "ax.set_box_aspect([1,1,1])\n",
    "#ax.set_xlim([-1.0,1.0])\n",
    "#ax.set_ylim([-1.0,1.0])\n",
    "#ax.set_zlim([-1.0,1.0])\n",
    "ax.set_axis_off()\n",
    "ax.view_init(elev=60., azim=0)\n",
    "lines_labels = [ax.get_legend_handles_labels()]\n",
    "lines, labels = [sum(lol, []) for lol in zip(*lines_labels)]\n",
    "fig.legend(lines, labels, loc=(0.70, 0.0), ncol=1)\n",
    "\n",
    "fig.tight_layout()\n",
    "\n",
    "save_path = f'{figure_path}synthetic_finsler_geodesics.pdf'\n",
    "fig.savefig(save_path, format='pdf', pad_inches=0.1, bbox_inches='tight')\n",
    "\n",
    "plt.show()\n",
    "\n",
    "\n"
   ]
  },
  {
   "cell_type": "markdown",
   "id": "0e558254",
   "metadata": {},
   "source": [
    "## Plotting Gradients"
   ]
  },
  {
   "cell_type": "code",
   "execution_count": null,
   "id": "cb35a3d7",
   "metadata": {},
   "outputs": [],
   "source": [
    "fig = plt.figure(figsize=(40,10))\n",
    "\n",
    "ax = fig.add_subplot(141)\n",
    "for key, value in sphere_methods.items():\n",
    "    if value['grad'] is not None:\n",
    "        ax.plot(jnp.arange(1,len(value['grad_curve'])+1,1), value['grad_curve'], \n",
    "                alpha=1.0, label=f\"{key}\")\n",
    "ax.grid(True)\n",
    "ax.legend(loc='upper right')\n",
    "\n",
    "ax = fig.add_subplot(142)\n",
    "for key, value in paraboloid_methods.items():\n",
    "    if value['grad'] is not None:\n",
    "        ax.plot(jnp.arange(1,len(value['grad_curve'])+1,1), value['grad_curve'], \n",
    "                alpha=1.0, label=f\"{key}\")\n",
    "ax.grid(True)\n",
    "ax.legend(loc='upper right')\n",
    "\n",
    "ax = fig.add_subplot(143)\n",
    "for key, value in ellipsoid_methods.items():\n",
    "    if value['grad'] is not None:\n",
    "        ax.plot(jnp.arange(1,len(value['grad_curve'])+1,1), value['grad_curve'], \n",
    "                alpha=1.0, label=f\"{key}\")\n",
    "ax.grid(True)\n",
    "ax.legend(loc='upper right')\n",
    "\n",
    "ax = fig.add_subplot(144)\n",
    "for key, value in torus_methods.items():\n",
    "    if value['grad'] is not None:\n",
    "        ax.plot(jnp.arange(1,len(value['grad_curve'])+1,1), value['grad_curve'], \n",
    "                alpha=1.0, label=f\"{key}\")\n",
    "ax.grid(True)\n",
    "ax.legend(loc='upper right')\n",
    "\n",
    "fig.tight_layout()\n",
    "\n",
    "save_path = f'{figure_path}synthetic_finsler_gradients.pdf'\n",
    "fig.savefig(save_path, format='pdf', pad_inches=0.1, bbox_inches='tight')\n",
    "\n",
    "plt.show()\n",
    "\n"
   ]
  },
  {
   "cell_type": "markdown",
   "id": "c9b932e7",
   "metadata": {},
   "source": [
    "## Plotting Convergence"
   ]
  },
  {
   "cell_type": "code",
   "execution_count": null,
   "id": "fcdc836e",
   "metadata": {},
   "outputs": [],
   "source": [
    "fig = plt.figure(figsize=(40,10))\n",
    "\n",
    "ax = fig.add_subplot(141)\n",
    "for key, value in sphere_methods.items():\n",
    "    if value['grad'] is not None:\n",
    "        ax.plot(value['error_iter_curve'], value['error_base_curve'][:-1]**2, \n",
    "                alpha=1.0, label=f\"{key}\")\n",
    "ax.grid(True)\n",
    "ax.legend(loc='upper right')\n",
    "\n",
    "ax = fig.add_subplot(142)\n",
    "for key, value in paraboloid_methods.items():\n",
    "    if value['grad'] is not None:\n",
    "        ax.plot(value['error_iter_curve'], value['error_base_curve'][:-1], \n",
    "                alpha=1.0, label=f\"{key}\")\n",
    "ax.grid(True)\n",
    "ax.legend(loc='upper right')\n",
    "\n",
    "ax = fig.add_subplot(143)\n",
    "for key, value in ellipsoid_methods.items():\n",
    "    if value['grad'] is not None:\n",
    "        ax.plot(value['error_iter_curve'], value['error_base_curve'][:-1], \n",
    "                alpha=1.0, label=f\"{key}\")\n",
    "ax.grid(True)\n",
    "ax.legend(loc='upper right')\n",
    "\n",
    "ax = fig.add_subplot(144)\n",
    "for key, value in torus_methods.items():\n",
    "    if value['grad'] is not None:\n",
    "        ax.plot(value['error_iter_curve'], value['error_base_curve'][:-1], \n",
    "                alpha=1.0, label=f\"{key}\")\n",
    "ax.grid(True)\n",
    "ax.legend(loc='upper right')\n",
    "\n",
    "fig.tight_layout()\n",
    "\n",
    "save_path = f'{figure_path}synthetic_finsler_convergence.pdf'\n",
    "fig.savefig(save_path, format='pdf', pad_inches=0.1, bbox_inches='tight')\n",
    "\n",
    "plt.show()\n",
    "\n"
   ]
  },
  {
   "cell_type": "code",
   "execution_count": null,
   "id": "fb7f24a4",
   "metadata": {},
   "outputs": [],
   "source": []
  },
  {
   "cell_type": "code",
   "execution_count": null,
   "id": "591b1cd3",
   "metadata": {},
   "outputs": [],
   "source": []
  }
 ],
 "metadata": {
  "kernelspec": {
   "display_name": "Python 3 (ipykernel)",
   "language": "python",
   "name": "python3"
  },
  "language_info": {
   "codemirror_mode": {
    "name": "ipython",
    "version": 3
   },
   "file_extension": ".py",
   "mimetype": "text/x-python",
   "name": "python",
   "nbconvert_exporter": "python",
   "pygments_lexer": "ipython3",
   "version": "3.9.13"
  }
 },
 "nbformat": 4,
 "nbformat_minor": 5
}
